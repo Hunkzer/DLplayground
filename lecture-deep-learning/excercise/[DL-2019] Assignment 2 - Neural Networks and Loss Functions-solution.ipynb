{
 "cells": [
  {
   "cell_type": "markdown",
   "metadata": {},
   "source": [
    "# Deep Learning 2019\n",
    "## Assignment 2 - Neural Networks and Loss Functions\n",
    "Please complete the questions below by modifying this notebook and send this file via e-mail to\n",
    "\n",
    "__[pir-assignments@l3s.de](mailto:pir-assignments@l3s.de?subject=[DL-2019]%20Assignment%20X%20[Name]%20[Mat.%20No.]&)__\n",
    "\n",
    "using the subject __[DL-2019] Assignment X [Name] [Mat. No.]__. The deadline for this assignment is __May 7th, 2019, 9AM__.\n",
    "\n",
    "Programming assignments have to be completed using Python 3. __Please do not use Python 2.__\n",
    "\n",
    "__Always explain your answers__ (do not just write 'yes' or 'no')."
   ]
  },
  {
   "cell_type": "markdown",
   "metadata": {},
   "source": [
    "Please add your name and matriculation number below:\n",
    "\n",
    "__Name:__\n",
    "<br>\n",
    "__Mat. No.:__\n",
    "\n",
    "----"
   ]
  },
  {
   "cell_type": "markdown",
   "metadata": {},
   "source": [
    "### 1. Multilayer Perceptron\n",
    "\n",
    "Consider an MLP with $n > 0$ hidden layers $h_1, h_2, ..., h_n$. Let all activation functions in this network be __linear__, i.e. all neurons use the activation function $f(x) = x$. Show that this model is a __linear predictor__, i.e. there exists an equivalent MLP with no hidden layers (only input and output layer)."
   ]
  },
  {
   "cell_type": "markdown",
   "metadata": {},
   "source": [
    "#### Solution\n",
    "Let $W_i$ be the weight matrix corresponding to layer $h_i$ and $W_o$ be the weight matrix corresponding to the output layer. Since there are no nonlinear activation functions, the network output $y$ then calculates as\n",
    "\\begin{equation*}\n",
    "    y = x \\cdot W_1 \\cdot ... \\cdot W_n \\cdot W_o = x \\cdot \\prod_{i=1}^n W_i \\cdot W_o.\n",
    "\\end{equation*}\n",
    "Because matrix multiplications are associative, we can write this as\n",
    "\\begin{equation*}\n",
    "    y = x \\cdot W \\text{, where } W = \\prod_{i=1}^n W_i \\cdot W_o.\n",
    "\\end{equation*}\n",
    "Our new weight matrix $W$ is equivalent to a single linear transformation between two layers."
   ]
  },
  {
   "cell_type": "markdown",
   "metadata": {},
   "source": [
    "### 2. Learning XOR\n",
    "The XOR function is defined as\n",
    "\\begin{equation}\n",
    "    x_1 \\oplus x_2 =\n",
    "    \\begin{cases}\n",
    "        0 \\quad x_1 = x_2\\\\\n",
    "        1 \\quad x_1 \\neq x_2\\\\\n",
    "    \\end{cases}.\n",
    "\\end{equation}\n",
    "\n",
    "In this task we want to use `scikit-learn` to train a linear classifier to learn the XOR function.\n",
    "\n",
    "1. What are the possible input-output-pairs $(x, y)$?\n",
    "2. Use `sklearn.linear_model.LinearRegression` to train a linear classifier on all pairs from 1.\n",
    "3. Test your classifier. Is it working well? Why (not)?"
   ]
  },
  {
   "cell_type": "markdown",
   "metadata": {},
   "source": [
    "#### Solution\n",
    "The binary XOR function only has four distinct inputs and outputs:\n",
    "\\begin{gather*}\n",
    "    (0, 0) \\mapsto 0\\\\\n",
    "    (0, 1) \\mapsto 1\\\\\n",
    "    (1, 0) \\mapsto 1\\\\\n",
    "    (1, 1) \\mapsto 0\n",
    "\\end{gather*}\n",
    "We want to train a classifier that outputs values close to $0$ or $1$ depending on the class of the input."
   ]
  },
  {
   "cell_type": "code",
   "execution_count": 1,
   "metadata": {},
   "outputs": [],
   "source": [
    "import numpy as np\n",
    "from matplotlib import pyplot\n",
    "from sklearn.linear_model import LinearRegression"
   ]
  },
  {
   "cell_type": "markdown",
   "metadata": {},
   "source": [
    "We create an array for inputs ($X$) and outputs ($Y$) respectively."
   ]
  },
  {
   "cell_type": "code",
   "execution_count": 2,
   "metadata": {},
   "outputs": [],
   "source": [
    "X = np.asarray([[0, 0], [0, 1], [1, 0], [1, 1]])\n",
    "Y = np.asarray([[0], [1], [1], [0]])"
   ]
  },
  {
   "cell_type": "markdown",
   "metadata": {},
   "source": [
    "No we fit our regression line to the data."
   ]
  },
  {
   "cell_type": "code",
   "execution_count": 3,
   "metadata": {},
   "outputs": [
    {
     "data": {
      "text/plain": [
       "LinearRegression(copy_X=True, fit_intercept=True, n_jobs=None,\n",
       "         normalize=False)"
      ]
     },
     "execution_count": 3,
     "metadata": {},
     "output_type": "execute_result"
    }
   ],
   "source": [
    "lin_reg = LinearRegression()\n",
    "lin_reg.fit(X, Y)"
   ]
  },
  {
   "cell_type": "markdown",
   "metadata": {},
   "source": [
    "Finally we can plot the resulting regression line."
   ]
  },
  {
   "cell_type": "code",
   "execution_count": 4,
   "metadata": {},
   "outputs": [
    {
     "data": {
      "image/png": "[encoded data removed]",
      "text/plain": [
       "<Figure size 432x288 with 1 Axes>"
      ]
     },
     "metadata": {
      "needs_background": "light"
     },
     "output_type": "display_data"
    }
   ],
   "source": [
    "pyplot.plot(X, lin_reg.predict(X))\n",
    "pyplot.show()"
   ]
  },
  {
   "cell_type": "markdown",
   "metadata": {},
   "source": [
    "As we can see our classifier only ever outputs a value of $0.5$, no matter the input. The reason for this is the fact that we are trying to use a linear classifier on data that is not linearly separable. This becomes clear when we plot the points themselves:"
   ]
  },
  {
   "cell_type": "code",
   "execution_count": 5,
   "metadata": {},
   "outputs": [
    {
     "data": {
      "image/png": "[encoded data removed]",
      "text/plain": [
       "<Figure size 432x288 with 1 Axes>"
      ]
     },
     "metadata": {
      "needs_background": "light"
     },
     "output_type": "display_data"
    }
   ],
   "source": [
    "pyplot.scatter([0, 1], [0, 1], color='red', label='y = 0')\n",
    "pyplot.scatter([0, 1], [1, 0], color='green', label='y = 1')\n",
    "pyplot.legend()\n",
    "pyplot.show()"
   ]
  },
  {
   "cell_type": "markdown",
   "metadata": {},
   "source": [
    "In the plot above, the green dots represent the positive class and the red dots the negative class. It is impossible to separate the classes using a straight line, thus our linear classifier fails here."
   ]
  },
  {
   "cell_type": "markdown",
   "metadata": {},
   "source": [
    "### 3. Learning XOR with MLP\n",
    "For this task, __the only library allowed is numpy__. Specifically, do not use a deep learning library.\n",
    "\n",
    "We now want to implement a simple feed-forward net that can learn the XOR function. Our network should have a single $3$-dimensional hidden layer $h$ and use sigmoid activation in all layers.\n",
    "\n",
    "1. What are the dimensions of the two weight matrices?\n",
    "2. Implement the forward pass. Initialize the weight matrices randomly in $[-1; 1]$. You can omit the bias terms in this example.\n",
    "3. Implement the backward pass. Use SGD optimization and $L_2$ (mean squared error) loss. Set the learning rate to $\\eta = 1$.\n",
    "4. Train and test your model."
   ]
  },
  {
   "cell_type": "markdown",
   "metadata": {},
   "source": [
    "#### Solution\n",
    "We make use of numpy's matrix multiplication and broadcasting features for the calculations."
   ]
  },
  {
   "cell_type": "code",
   "execution_count": 6,
   "metadata": {},
   "outputs": [],
   "source": [
    "import numpy as np"
   ]
  },
  {
   "cell_type": "markdown",
   "metadata": {},
   "source": [
    "We again create pairs $(x, y)$ of inputs and corresponding outputs."
   ]
  },
  {
   "cell_type": "code",
   "execution_count": 7,
   "metadata": {},
   "outputs": [
    {
     "name": "stdout",
     "output_type": "stream",
     "text": [
      "shape of X: (4, 2), shape of Y: (4, 1)\n",
      "  x\t y\n",
      "-----------\n",
      "[0 0]\t[0]\n",
      "[0 1]\t[1]\n",
      "[1 0]\t[1]\n",
      "[1 1]\t[0]\n"
     ]
    }
   ],
   "source": [
    "X = np.asarray([[0, 0], [0, 1], [1, 0], [1, 1]])\n",
    "Y = np.asarray([[0], [1], [1], [0]])\n",
    "\n",
    "print('shape of X: {}, shape of Y: {}'.format(X.shape, Y.shape))\n",
    "\n",
    "print('  x\\t y')\n",
    "print('-----------')\n",
    "for x, y in zip(X, Y):\n",
    "    print('{}\\t{}'.format(x, y))"
   ]
  },
  {
   "cell_type": "markdown",
   "metadata": {},
   "source": [
    "In order to implement the forward pass, we first have to finalize the model architecture. We will add a single, $3$-dimensional hidden layer to the net. Thus, in total we need two non-linear transformations, $h = g_1(W_1 x)$ and $y = g_2(W_2 h)$. Note that we omit the bias terms in this simple example.\n",
    "\n",
    "The dimensions of $W_1$ and $W_2$ can be inferred from the dimensions of the layers. Since our input layer is $2$-dimensional and our hidden layer is $3$-dimensional, we get $W_1 \\in \\mathbb{R}^{2 \\times 3}$. Similarly, the output layer is $1$-dimensional, thus $W_2 \\in \\mathbb{R}^{3 \\times 1}$. The parameters are initialized randomly in $[-1, 1]$."
   ]
  },
  {
   "cell_type": "code",
   "execution_count": 8,
   "metadata": {},
   "outputs": [
    {
     "name": "stdout",
     "output_type": "stream",
     "text": [
      "W1:\n",
      "[[-0.79215565  0.37609204  0.77526424]\n",
      " [-0.92516953 -0.88922739  0.26461833]]\n",
      "W2:\n",
      "[[0.07880864]\n",
      " [0.2022939 ]\n",
      " [0.98867988]]\n"
     ]
    }
   ],
   "source": [
    "W1 = 2 * np.random.rand(2, 3) - 1\n",
    "W2 = 2 * np.random.rand(3, 1) - 1\n",
    "\n",
    "print('W1:\\n{}'.format(W1))\n",
    "print('W2:\\n{}'.format(W2))"
   ]
  },
  {
   "cell_type": "markdown",
   "metadata": {},
   "source": [
    "We use the sigmoid activation function:"
   ]
  },
  {
   "cell_type": "code",
   "execution_count": 9,
   "metadata": {},
   "outputs": [],
   "source": [
    "def sigmoid(x):\n",
    "    return 1 / (1 + np.exp(-x))"
   ]
  },
  {
   "cell_type": "markdown",
   "metadata": {},
   "source": [
    "Now we can implement the forward pass easily. Note that the @ operator in numpy is a regular matrix multiplication. As expected, we get some random output for each input."
   ]
  },
  {
   "cell_type": "code",
   "execution_count": 10,
   "metadata": {},
   "outputs": [
    {
     "name": "stdout",
     "output_type": "stream",
     "text": [
      "  x\t y\t   y_out\n",
      "----------------------------\n",
      "[0 0]\t[0]\t[0.6535977]\n",
      "[0 1]\t[1]\t[0.65490329]\n",
      "[1 0]\t[1]\t[0.69453756]\n",
      "[1 1]\t[0]\t[0.69385633]\n"
     ]
    }
   ],
   "source": [
    "def forward(x):\n",
    "    h = sigmoid(x @ W1)\n",
    "    y_out = sigmoid(h @ W2)\n",
    "    return h, y_out\n",
    "\n",
    "print('  x\\t y\\t   y_out')\n",
    "print('----------------------------')\n",
    "for x, y in zip(X, Y):\n",
    "    _, y_out = forward(x)\n",
    "    print('{}\\t{}\\t{}'.format(x, y, y_out))"
   ]
  },
  {
   "cell_type": "markdown",
   "metadata": {},
   "source": [
    "The backward pass is important for the training of the net, as it propagates the prediction error back into the net and adjusts the weights. We first have to define a loss function which determines how good or bad the prediction of our model is, given the ground truth. For this example we use a simple $L_2$ loss, which is defined as $L_2(y, \\hat{y}) = \\frac{1}{2} (y - \\hat{y})^2$."
   ]
  },
  {
   "cell_type": "code",
   "execution_count": 11,
   "metadata": {},
   "outputs": [
    {
     "name": "stdout",
     "output_type": "stream",
     "text": [
      "  x\t y\t   y_out\t    loss\n",
      "--------------------------------------------\n",
      "[0 0]\t[0]\t[0.6535977]\t[0.21359498]\n",
      "[0 1]\t[1]\t[0.65490329]\t[0.05954587]\n",
      "[1 0]\t[1]\t[0.69453756]\t[0.04665365]\n",
      "[1 1]\t[0]\t[0.69385633]\t[0.2407183]\n"
     ]
    }
   ],
   "source": [
    "def l2_loss(y, y_out):\n",
    "    return (y - y_out) ** 2 / 2\n",
    "\n",
    "print('  x\\t y\\t   y_out\\t    loss')\n",
    "print('--------------------------------------------')\n",
    "for x, y in zip(X, Y):\n",
    "    _, y_out = forward(x)\n",
    "    l = l2_loss(y, y_out)\n",
    "    print('{}\\t{}\\t{}\\t{}'.format(x, y, y_out, l))"
   ]
  },
  {
   "cell_type": "markdown",
   "metadata": {},
   "source": [
    "To implement the backward pass, we utilize the back-propagation algorithm. The idea is to find the derivative of the loss function w.r.t. each parameter of the model. We use the chain rule to accomplish this. For example, we can calculate the derivative of the loss w.r.t. the weight matrix $W_2$ as\n",
    "\\begin{align}\n",
    "    \\frac{\\partial L}{\\partial W_2} &= \\frac{\\partial L}{\\partial \\hat{y}} \\frac{\\partial \\hat{y}}{\\partial z} \\frac{\\partial z}{\\partial W_2} \\\\\n",
    "                                    &= (y - \\hat{y}) \\cdot \\sigma(\\hat{y}) (1 - \\sigma(\\hat{y})) \\cdot h\n",
    "\\end{align}\n",
    "where $z = h W_2$ (before the computation of the sigmoid). The derivative $\\frac{\\partial L}{\\partial W_1}$ can be calculated similarly. Thus, the implementation of the backward pass consists of the derivatives and the weight updates:"
   ]
  },
  {
   "cell_type": "code",
   "execution_count": 12,
   "metadata": {},
   "outputs": [],
   "source": [
    "def loss_deriv(y, y_out):\n",
    "    return y - y_out\n",
    "\n",
    "def sigmoid_deriv(s):\n",
    "    return (1 - s) * s\n",
    "\n",
    "def backward(x, y):\n",
    "    global W1, W2\n",
    "    h, y_out = forward(x)\n",
    "\n",
    "    y_loss = loss_deriv(y, y_out)\n",
    "    y_delta = y_loss * sigmoid_deriv(y_out)\n",
    "    \n",
    "    h_loss = y_delta @ W2.T\n",
    "    h_delta = h_loss * sigmoid_deriv(h)\n",
    "    \n",
    "    W2 += h.T @ y_delta\n",
    "    W1 += x.T @ h_delta"
   ]
  },
  {
   "cell_type": "markdown",
   "metadata": {},
   "source": [
    "Note that for simplicity we chose a learning rate of $\\eta = 1$ by omitting the parameter altogether.\n",
    "\n",
    "Finally we can train our model by simply running the forward and backward passes a bunch of times and compare the results. Because of the array broadcasting functions of numpy, we can pass the whole input arrays $X$ and $Y$ instead of single training examples."
   ]
  },
  {
   "cell_type": "code",
   "execution_count": 13,
   "metadata": {
    "scrolled": true
   },
   "outputs": [
    {
     "name": "stdout",
     "output_type": "stream",
     "text": [
      "  x\t y\t   y_out\t    loss\n",
      "--------------------------------------------\n",
      "[0 0]\t[0]\t[0.02273868]\t[0.00025852]\n",
      "[0 1]\t[1]\t[0.96391531]\t[0.00065105]\n",
      "[1 0]\t[1]\t[0.96996943]\t[0.00045092]\n",
      "[1 1]\t[0]\t[0.02891493]\t[0.00041804]\n"
     ]
    }
   ],
   "source": [
    "EPOCHS = 10000\n",
    "for _ in range(EPOCHS):\n",
    "    backward(X, Y)\n",
    "print('  x\\t y\\t   y_out\\t    loss')\n",
    "print('--------------------------------------------')\n",
    "for x, y in zip(X, Y):\n",
    "    _, y_out = forward(x)\n",
    "    l = l2_loss(y, y_out)\n",
    "    print('{}\\t{}\\t{}\\t{}'.format(x, y, y_out, l))"
   ]
  },
  {
   "cell_type": "markdown",
   "metadata": {},
   "source": [
    "We can see that the net learned an approximation of the XOR function which works for all four cases."
   ]
  },
  {
   "cell_type": "markdown",
   "metadata": {},
   "source": [
    "## 4. Feed-forward Network with `scikit-learn`\n",
    "In this problem, we are going to learn how to train a feed-forward neural network with the `sklearn.neural_network` module in `scikit-learn`. We will train an `sklearn.neural_network.MLPClassifier`$^1$ on the [__Iris dataset__](https://en.wikipedia.org/wiki/Iris_flower_data_set) to classify flowers.\n",
    "\n",
    "1. Load the Iris dataset and split it into 90% for training and 10% for testing using the `train_test_split` function. Then train an `MLPClassifier` with __3 hidden layers__ on the training data after necessary preprocessing. During training, perform validation and enable the `early_stopping` functionality based on validation data by setting `validation_fraction` to $0.1$. Furthermore, the model should use an __L2 penalty__ to avoid overfitting. Evaluate your model on the test data.\n",
    "\n",
    "2. Choose a proper metric and draw the learning curve (`sklearn.model_selection.learning_curve`) of this model using a $5$-fold cross validation split. Compute the variance across different iterations for different sizes of training data. What is the downside of setting aside a single validation set __statically__, like in the first problem, compared with the $5$-fold cross validation method?\n",
    "\n",
    "3. As you might have noticed from the data, the distribution of the label classes is not uniform, which means, while sampling validation data from the whole set, it is possible to sample a set in a different distribution. What kind of problems can this cause? How can you deal with this situation?\n",
    "\n",
    "$^1$The `MLPClassifier` module is quite limited in terms of customizability. For instance, [custom loss functions are not supported due to performance reasons](https://github.com/scikit-learn/scikit-learn/issues/1701). Starting from the next assignment, we will use actual deep learning libraries."
   ]
  },
  {
   "cell_type": "markdown",
   "metadata": {},
   "source": [
    "#### Solution\n",
    "1. "
   ]
  },
  {
   "cell_type": "code",
   "execution_count": 14,
   "metadata": {},
   "outputs": [
    {
     "name": "stdout",
     "output_type": "stream",
     "text": [
      "training duration: 1.8s\n"
     ]
    },
    {
     "data": {
      "text/plain": [
       "1.0"
      ]
     },
     "execution_count": 14,
     "metadata": {},
     "output_type": "execute_result"
    }
   ],
   "source": [
    "from sklearn.neural_network import MLPClassifier\n",
    "from sklearn.model_selection import train_test_split\n",
    "from sklearn.preprocessing import StandardScaler\n",
    "from sklearn.pipeline import Pipeline\n",
    "from sklearn.datasets import load_iris\n",
    "from time import time\n",
    "\n",
    "iris = load_iris()\n",
    "x = iris['data']\n",
    "y = iris['target']\n",
    "\n",
    "x_train, x_test, y_train, y_test = train_test_split(x, y, test_size=0.1, shuffle=True, random_state=42)\n",
    "\n",
    "standardizer = StandardScaler()\n",
    "model = MLPClassifier(hidden_layer_sizes=(64, 64, 4), activation='logistic', \n",
    "                      solver='lbfgs', alpha=0.001, learning_rate='adaptive',\n",
    "                      early_stopping=True, max_iter=10000, n_iter_no_change=100)\n",
    "pipeline = Pipeline(steps=[\n",
    "    ('standardizer', standardizer),\n",
    "    ('model', model)\n",
    "])\n",
    "tic = time()\n",
    "model.fit(x_train, y_train)\n",
    "print('training duration: {:0.4}s'.format(time()-tic))\n",
    "model.score(x_test, y_test)"
   ]
  },
  {
   "cell_type": "markdown",
   "metadata": {},
   "source": [
    "2. "
   ]
  },
  {
   "cell_type": "code",
   "execution_count": 15,
   "metadata": {},
   "outputs": [
    {
     "data": {
      "text/plain": [
       "<matplotlib.legend.Legend at 0x7eff0767c860>"
      ]
     },
     "execution_count": 15,
     "metadata": {},
     "output_type": "execute_result"
    },
    {
     "data": {
      "image/png": "[encoded data removed]",
      "text/plain": [
       "<Figure size 432x288 with 1 Axes>"
      ]
     },
     "metadata": {
      "needs_background": "light"
     },
     "output_type": "display_data"
    }
   ],
   "source": [
    "import numpy as np\n",
    "from sklearn.preprocessing import StandardScaler\n",
    "from sklearn.pipeline import Pipeline\n",
    "from sklearn.model_selection import KFold, learning_curve\n",
    "from sklearn.metrics import balanced_accuracy_score\n",
    "from sklearn.svm import LinearSVC\n",
    "import matplotlib.pyplot as plt\n",
    "\n",
    "evaluater = lambda model, X, y_true: balanced_accuracy_score(y_true, model.predict(X))\n",
    "\n",
    "standardizer = StandardScaler()\n",
    "model = MLPClassifier(hidden_layer_sizes=(64, 64, 8), activation='logistic', \n",
    "                      solver='adam', alpha=0.001, learning_rate='adaptive',\n",
    "                      max_iter=5000, n_iter_no_change=100)\n",
    "pipeline = Pipeline(steps = [\n",
    "    ('standardizer', standardizer),\n",
    "    ('LSVC', model)\n",
    "])\n",
    "\n",
    "training_sizes = np.linspace(0.2, 1.0, 10)\n",
    "cv_splitter = KFold(n_splits=5, shuffle=True, random_state=42)\n",
    "train_sizes, train_scores, validation_scores = learning_curve(pipeline, x_train, y_train,\n",
    "                                                              train_sizes=training_sizes,\n",
    "                                                              cv=5, scoring=evaluater)\n",
    "\n",
    "fig, ax = plt.subplots()\n",
    "ax.set_xlabel('#instances')\n",
    "ax.set_ylabel('accuracy')\n",
    "\n",
    "tscore_mean = train_scores.mean(axis=1)\n",
    "tscore_std = train_scores.std(axis=1)\n",
    "vscore_mean = validation_scores.mean(axis=1)\n",
    "vscore_std = validation_scores.std(axis=1)\n",
    "\n",
    "ax.plot(training_sizes, tscore_mean, label='Train Scores', color='darkorange')\n",
    "ax.plot(training_sizes, vscore_mean, label='Validation Scores', color='navy')\n",
    "ax.fill_between(training_sizes, tscore_mean - tscore_std,\n",
    "                tscore_mean + tscore_std, alpha=0.2,\n",
    "                color=\"darkorange\", label='1 sigma range (test)')\n",
    "ax.fill_between(training_sizes, vscore_mean - vscore_std,\n",
    "                vscore_mean + vscore_std, alpha=0.2,\n",
    "                color=\"navy\", label='1 sigma range (validation)')\n",
    "ax.legend()"
   ]
  },
  {
   "cell_type": "markdown",
   "metadata": {},
   "source": [
    "The goal of cross validation is to assess the generalization performance of the model. A K-fold cross validation can leads to an unbiased result since its training and validation set don't overlap and every single sub-group is used as validation set once. Using a single validation set introduces the bias caused by sampling the validation set."
   ]
  },
  {
   "cell_type": "markdown",
   "metadata": {},
   "source": [
    "3. The Bayes error between the training and test data can be different, thus the learning is untrustworthy. Use of the stratified cross validation splitter (or sampling separately for each classes) solves this problem."
   ]
  }
 ],
 "metadata": {
  "kernelspec": {
   "display_name": "Python 3",
   "language": "python",
   "name": "python3"
  },
  "language_info": {
   "codemirror_mode": {
    "name": "ipython",
    "version": 3
   },
   "file_extension": ".py",
   "mimetype": "text/x-python",
   "name": "python",
   "nbconvert_exporter": "python",
   "pygments_lexer": "ipython3",
   "version": "3.6.7"
  }
 },
 "nbformat": 4,
 "nbformat_minor": 2
}
