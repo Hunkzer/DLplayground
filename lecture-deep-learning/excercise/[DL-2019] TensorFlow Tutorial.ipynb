{
 "cells": [
  {
   "cell_type": "markdown",
   "metadata": {},
   "source": [
    "# Introduction to TensorFlow\n",
    "\n",
    "In this tutorial we will take a first look at the TensorFlow library as well as the built-in high-level API Keras. It is based on the [official TensorFlow guides and tutorials](https://www.tensorflow.org/overview/). The official documents are much more detailed, so it is always a good idea to go through them.\n",
    "\n",
    "Make sure you have a recent version of TensorFlow installed. Installation instructions can be found [here](https://www.tensorflow.org/install). If you have a beefy NVIDIA GPU, read [this](https://www.tensorflow.org/install/gpu). This tutorial is made with TF version 1.13.1. Note that TensorFlow 2.0 is on the horizon, which will introduce a bunch of cool [new features](https://medium.com/tensorflow/whats-coming-in-tensorflow-2-0-d3663832e9b8), however, as it is still in alpha at this point, we will stick to this version for now. Below you can check your installed version of TF:"
   ]
  },
  {
   "cell_type": "code",
   "execution_count": 1,
   "metadata": {},
   "outputs": [
    {
     "name": "stdout",
     "output_type": "stream",
     "text": [
      "TensorFlow version: 1.13.1\n"
     ]
    }
   ],
   "source": [
    "import tensorflow as tf\n",
    "print('TensorFlow version: {}'.format(tf.__version__))"
   ]
  },
  {
   "cell_type": "markdown",
   "metadata": {},
   "source": [
    "At this point we have to enable eager execution, since it can only be done immediately after importing. This will be relevant later in the tutorial."
   ]
  },
  {
   "cell_type": "code",
   "execution_count": 2,
   "metadata": {},
   "outputs": [],
   "source": [
    "tf.enable_eager_execution()"
   ]
  },
  {
   "cell_type": "markdown",
   "metadata": {},
   "source": [
    "## Sequential Models with Keras\n",
    "The easiest way of building deep learning models with TensorFlow is by using the high-level API Keras, which allows for easy definition of standard models in a sequential manner, i.e. by chaining together a number of layers. TensorFlow ships with its own implementation of Keras:"
   ]
  },
  {
   "cell_type": "code",
   "execution_count": 3,
   "metadata": {},
   "outputs": [
    {
     "name": "stdout",
     "output_type": "stream",
     "text": [
      "Keras version: 2.2.4-tf\n"
     ]
    }
   ],
   "source": [
    "print('Keras version: {}'.format(tf.keras.__version__))"
   ]
  },
  {
   "cell_type": "markdown",
   "metadata": {},
   "source": [
    "### Example: Digit Recognition\n",
    "We will start by creating a feed-forward network for hand-written digit recognition using the [MNIST dataset](https://en.wikipedia.org/wiki/MNIST_database). It contains images, where each image shows one hand-written digit. The task is to classify each image into one of ten classes, one for each digit. This dataset is included in TensorFlow and can easily be loaded:"
   ]
  },
  {
   "cell_type": "code",
   "execution_count": 4,
   "metadata": {},
   "outputs": [],
   "source": [
    "(x_train, y_train), (x_test, y_test) = tf.keras.datasets.mnist.load_data()"
   ]
  },
  {
   "cell_type": "markdown",
   "metadata": {},
   "source": [
    "The data is already split in training and test sets. We can inspect the shape of the arrays to find out the number of examples and resolution of the images. In this case we have $60000$ training examples and $10000$ testing examples. The images are $28 \\times 28$ pixels."
   ]
  },
  {
   "cell_type": "code",
   "execution_count": 5,
   "metadata": {},
   "outputs": [
    {
     "name": "stdout",
     "output_type": "stream",
     "text": [
      "shape of x_train: (60000, 28, 28)\n",
      "shape of y_test: (10000,)\n"
     ]
    }
   ],
   "source": [
    "print('shape of x_train: {}'.format(x_train.shape))\n",
    "print('shape of y_test: {}'.format(y_test.shape))"
   ]
  },
  {
   "cell_type": "markdown",
   "metadata": {},
   "source": [
    "In many cases it is useful to normalize the data. Our values are currently in $[0, 255]$. We normalize them to $[0, 1]$. "
   ]
  },
  {
   "cell_type": "code",
   "execution_count": 6,
   "metadata": {},
   "outputs": [],
   "source": [
    "x_train, x_test = x_train / 255.0, x_test / 255.0"
   ]
  },
  {
   "cell_type": "markdown",
   "metadata": {},
   "source": [
    "Finally we can define our model. It is as simple as creating a `tf.keras.models.Sequential` object and adding a bunch of layers to it."
   ]
  },
  {
   "cell_type": "code",
   "execution_count": 7,
   "metadata": {},
   "outputs": [],
   "source": [
    "model = tf.keras.Sequential()"
   ]
  },
  {
   "cell_type": "markdown",
   "metadata": {},
   "source": [
    "The first thing we need to to is flatten the input. Right now our images have a shape of $(28, 28)$. Since our model consists of regular fully-connected layers, we need to convert them to vectors. This can be done using a `tf.keras.layers.Flatten` layer, which is our model's input layer."
   ]
  },
  {
   "cell_type": "code",
   "execution_count": 8,
   "metadata": {},
   "outputs": [],
   "source": [
    "model.add(tf.keras.layers.Flatten(input_shape=(28, 28)))"
   ]
  },
  {
   "cell_type": "markdown",
   "metadata": {},
   "source": [
    "Now we can add some hidden layers. In our case we add a single dense (fully connected) hidden layer with $512$ neurons as well as some dropout regularization. In each layer we can specify the number of neurons and the activation function."
   ]
  },
  {
   "cell_type": "code",
   "execution_count": 9,
   "metadata": {},
   "outputs": [
    {
     "name": "stdout",
     "output_type": "stream",
     "text": [
      "WARNING:tensorflow:From /home/jurek/.local/lib/python3.6/site-packages/tensorflow/python/ops/resource_variable_ops.py:642: colocate_with (from tensorflow.python.framework.ops) is deprecated and will be removed in a future version.\n",
      "Instructions for updating:\n",
      "Colocations handled automatically by placer.\n",
      "WARNING:tensorflow:From /home/jurek/.local/lib/python3.6/site-packages/tensorflow/python/keras/layers/core.py:143: calling dropout (from tensorflow.python.ops.nn_ops) with keep_prob is deprecated and will be removed in a future version.\n",
      "Instructions for updating:\n",
      "Please use `rate` instead of `keep_prob`. Rate should be set to `rate = 1 - keep_prob`.\n"
     ]
    }
   ],
   "source": [
    "model.add(tf.keras.layers.Dense(512, activation='relu'))\n",
    "model.add(tf.keras.layers.Dropout(rate=0.2))"
   ]
  },
  {
   "cell_type": "markdown",
   "metadata": {},
   "source": [
    "Finally we add our output layer. Since we have $10$ classes, we need $10$ output neurons, where each neuron outputs the probability that the input image belongs to its class. Recall the definition of the _softmax_ function:\n",
    "\\begin{equation}\n",
    "\tsoftmax(y_i) = \\frac{e^{y_i}}{\\sum_{j=1}^{m} e^{y_j}}\n",
    "\\end{equation}\n",
    "Using the softmax as activation function produces a probability distribution in the output layer, where we can then select the class with the highest probability."
   ]
  },
  {
   "cell_type": "code",
   "execution_count": 10,
   "metadata": {},
   "outputs": [],
   "source": [
    "model.add(tf.keras.layers.Dense(10, activation='softmax'))"
   ]
  },
  {
   "cell_type": "markdown",
   "metadata": {},
   "source": [
    "Now our model is complete. We just need to choose a loss function and an optimizer. This can be done using the `compile` function. We choose the `adam` optimizer and cross entropy loss. We can also specify some metrics which will be reported during training."
   ]
  },
  {
   "cell_type": "code",
   "execution_count": 11,
   "metadata": {},
   "outputs": [],
   "source": [
    "model.compile(optimizer='adam', loss='sparse_categorical_crossentropy', metrics=['accuracy'])"
   ]
  },
  {
   "cell_type": "markdown",
   "metadata": {},
   "source": [
    "After compiling the model, we can optionally print a summary:"
   ]
  },
  {
   "cell_type": "code",
   "execution_count": 12,
   "metadata": {
    "scrolled": true
   },
   "outputs": [
    {
     "name": "stdout",
     "output_type": "stream",
     "text": [
      "_________________________________________________________________\n",
      "Layer (type)                 Output Shape              Param #   \n",
      "=================================================================\n",
      "flatten (Flatten)            (None, 784)               0         \n",
      "_________________________________________________________________\n",
      "dense (Dense)                (None, 512)               401920    \n",
      "_________________________________________________________________\n",
      "dropout (Dropout)            (None, 512)               0         \n",
      "_________________________________________________________________\n",
      "dense_1 (Dense)              (None, 10)                5130      \n",
      "=================================================================\n",
      "Total params: 407,050\n",
      "Trainable params: 407,050\n",
      "Non-trainable params: 0\n",
      "_________________________________________________________________\n"
     ]
    }
   ],
   "source": [
    "model.summary()"
   ]
  },
  {
   "cell_type": "markdown",
   "metadata": {},
   "source": [
    "Since we already have our data in the right format, training the model is as easy as calling the `fit` function. We can specify some parameters like the batch size or number of training epochs. After every epoch, it reports the loss and the metrics we specified earlier."
   ]
  },
  {
   "cell_type": "code",
   "execution_count": 13,
   "metadata": {},
   "outputs": [
    {
     "name": "stdout",
     "output_type": "stream",
     "text": [
      "Epoch 1/5\n",
      "60000/60000 [==============================] - 9s 156us/sample - loss: 0.2170 - acc: 0.9365\n",
      "Epoch 2/5\n",
      "60000/60000 [==============================] - 9s 144us/sample - loss: 0.0974 - acc: 0.9704\n",
      "Epoch 3/5\n",
      "60000/60000 [==============================] - 9s 145us/sample - loss: 0.0689 - acc: 0.9779\n",
      "Epoch 4/5\n",
      "60000/60000 [==============================] - 9s 142us/sample - loss: 0.0549 - acc: 0.9825\n",
      "Epoch 5/5\n",
      "60000/60000 [==============================] - 9s 143us/sample - loss: 0.0426 - acc: 0.9862\n"
     ]
    },
    {
     "data": {
      "text/plain": [
       "<tensorflow.python.keras.callbacks.History at 0x7efe0c7d39e8>"
      ]
     },
     "execution_count": 13,
     "metadata": {},
     "output_type": "execute_result"
    }
   ],
   "source": [
    "model.fit(x_train, y_train, batch_size=32, epochs=5)"
   ]
  },
  {
   "cell_type": "markdown",
   "metadata": {},
   "source": [
    "Now that our model is trained, we can use it to make some predictions. Let's take the first item in the test set and predict its class. Note that our model expects batches as inputs, i.e. the shape should be $(b, 28, 28)$, where $b$ is the batch size (this can be variable). Even if we only want to input a single example, the shape must be $(1, 28, 28)$."
   ]
  },
  {
   "cell_type": "code",
   "execution_count": 14,
   "metadata": {},
   "outputs": [
    {
     "name": "stdout",
     "output_type": "stream",
     "text": [
      "Real label: 7\n",
      "Predicted probabilities: [1.5490368e-09 6.4304819e-09 7.0419937e-08 1.4518483e-06 6.6623326e-15\n",
      " 4.0967039e-09 4.0574503e-16 9.9999678e-01 9.4360297e-09 1.6224691e-06]\n",
      "Class with highest probability: 7 (0.9999967813491821)\n"
     ]
    }
   ],
   "source": [
    "import numpy as np\n",
    "\n",
    "print('Real label: {}'.format(y_test[0]))\n",
    "model_input = np.asarray([x_test[0]])\n",
    "prediction = model.predict(model_input)\n",
    "print('Predicted probabilities: {}'.format(prediction.flatten()))\n",
    "print('Class with highest probability: {} ({})'.format(np.argmax(prediction), np.max(prediction)))"
   ]
  },
  {
   "cell_type": "markdown",
   "metadata": {},
   "source": [
    "Our model assigned the image to the correct class with a probability of almost $100\\%$.\n",
    "\n",
    "We can evaluate the model on the test set using our metrics from earlier:"
   ]
  },
  {
   "cell_type": "code",
   "execution_count": 15,
   "metadata": {},
   "outputs": [
    {
     "name": "stdout",
     "output_type": "stream",
     "text": [
      "10000/10000 [==============================] - 0s 37us/sample - loss: 0.0666 - acc: 0.9804\n",
      "Loss = 0.06656300846789381, accuracy = 0.980400025844574\n"
     ]
    }
   ],
   "source": [
    "loss, acc = model.evaluate(x_test, y_test)\n",
    "print('Loss = {}, accuracy = {}'.format(loss, acc))"
   ]
  },
  {
   "cell_type": "markdown",
   "metadata": {},
   "source": [
    "Congratulations, you trained and evaluated your first Keras model! The trained weights can now be saved in a file with a simple command:"
   ]
  },
  {
   "cell_type": "code",
   "execution_count": 16,
   "metadata": {},
   "outputs": [],
   "source": [
    "model.save_weights('model_weights.h5')"
   ]
  },
  {
   "cell_type": "markdown",
   "metadata": {},
   "source": [
    "Loading them back is just as easy:"
   ]
  },
  {
   "cell_type": "code",
   "execution_count": 17,
   "metadata": {},
   "outputs": [
    {
     "name": "stdout",
     "output_type": "stream",
     "text": [
      "10000/10000 [==============================] - 0s 35us/sample - loss: 0.0666 - acc: 0.9804\n",
      "Loss = 0.06656300846789381, accuracy = 0.980400025844574\n"
     ]
    }
   ],
   "source": [
    "model.load_weights('model_weights.h5')\n",
    "loss, acc = model.evaluate(x_test, y_test)\n",
    "print('Loss = {}, accuracy = {}'.format(loss, acc))"
   ]
  },
  {
   "cell_type": "markdown",
   "metadata": {},
   "source": [
    "Note that the functions above only save the model's parameters, and not the model configuration itself. To save the complete model, use `save` and `tf.keras.models.load_model`. Note that this seems to be [currently bugged](https://github.com/tensorflow/tensorflow/issues/27688), and it throws a runtime error at the time of writing this tutorial, hence we don't show it here.\n",
    "\n",
    "### Validation\n",
    "So far we have only trained our model for a fixed number of epochs on our training data. However, this approach is very prone to overfitting. It is usually best to keep a smaller number of examples as a validation set (or dev set) and calculate the loss on this set after every epoch. As soon as we see the validation loss increase, we should stop the training to avoid overfitting.\n",
    "\n",
    "In order to tell Keras to stop after it has detected an increase in validation loss, we use a _callback_ function. These functions will be called after every training epoch. For early stopping, we can use the pre-made function `tf.keras.callbacks.EarlyStopping` to monitor the validation loss `val_loss`. We can also set the `patience` parameter, which describes the maximum number of epochs where an increase is tolerated before stopping."
   ]
  },
  {
   "cell_type": "code",
   "execution_count": 18,
   "metadata": {},
   "outputs": [],
   "source": [
    "cb_early_stop = tf.keras.callbacks.EarlyStopping(monitor='val_loss', patience=3)"
   ]
  },
  {
   "cell_type": "markdown",
   "metadata": {},
   "source": [
    "We can now start the training a new model, this time with validation data and early stopping. This time we set the number of epochs to a very high number to make sure we train until the validation loss stops decreasing. By setting `validation_split` to $0.1$ we automatically use $10\\%$ of the training data for validation."
   ]
  },
  {
   "cell_type": "code",
   "execution_count": 19,
   "metadata": {
    "scrolled": true
   },
   "outputs": [
    {
     "name": "stdout",
     "output_type": "stream",
     "text": [
      "Train on 54000 samples, validate on 6000 samples\n",
      "Epoch 1/100\n",
      "54000/54000 [==============================] - 8s 148us/sample - loss: 0.2318 - acc: 0.9302 - val_loss: 0.0985 - val_acc: 0.9705\n",
      "Epoch 2/100\n",
      "54000/54000 [==============================] - 8s 150us/sample - loss: 0.1008 - acc: 0.9685 - val_loss: 0.0845 - val_acc: 0.9762\n",
      "Epoch 3/100\n",
      "54000/54000 [==============================] - 8s 146us/sample - loss: 0.0717 - acc: 0.9775 - val_loss: 0.0656 - val_acc: 0.9795\n",
      "Epoch 4/100\n",
      "54000/54000 [==============================] - 8s 148us/sample - loss: 0.0542 - acc: 0.9830 - val_loss: 0.0665 - val_acc: 0.9798\n",
      "Epoch 5/100\n",
      "54000/54000 [==============================] - 9s 158us/sample - loss: 0.0457 - acc: 0.9854 - val_loss: 0.0647 - val_acc: 0.9810\n",
      "Epoch 6/100\n",
      "54000/54000 [==============================] - 8s 147us/sample - loss: 0.0374 - acc: 0.9879 - val_loss: 0.0640 - val_acc: 0.9820\n",
      "Epoch 7/100\n",
      "54000/54000 [==============================] - 8s 151us/sample - loss: 0.0328 - acc: 0.9889 - val_loss: 0.0607 - val_acc: 0.9833\n",
      "Epoch 8/100\n",
      "54000/54000 [==============================] - 8s 148us/sample - loss: 0.0265 - acc: 0.9911 - val_loss: 0.0798 - val_acc: 0.9797\n",
      "Epoch 9/100\n",
      "54000/54000 [==============================] - 8s 148us/sample - loss: 0.0245 - acc: 0.9917 - val_loss: 0.0615 - val_acc: 0.9840\n",
      "Epoch 10/100\n",
      "54000/54000 [==============================] - 8s 148us/sample - loss: 0.0235 - acc: 0.9921 - val_loss: 0.0765 - val_acc: 0.9795\n"
     ]
    },
    {
     "data": {
      "text/plain": [
       "<tensorflow.python.keras.callbacks.History at 0x7efe0c7777f0>"
      ]
     },
     "execution_count": 19,
     "metadata": {},
     "output_type": "execute_result"
    }
   ],
   "source": [
    "model = tf.keras.models.Sequential([tf.keras.layers.Flatten(input_shape=(28, 28)),\n",
    "                                    tf.keras.layers.Dense(512, activation='relu'),\n",
    "                                    tf.keras.layers.Dropout(rate=0.2),\n",
    "                                    tf.keras.layers.Dense(10, activation='softmax')])\n",
    "model.compile(optimizer='adam', loss='sparse_categorical_crossentropy', metrics=['accuracy'])\n",
    "model.fit(x_train, y_train, batch_size=32, epochs=100, callbacks=[cb_early_stop], validation_split=0.1)"
   ]
  },
  {
   "cell_type": "markdown",
   "metadata": {},
   "source": [
    "We can see that the validation loss starts to increase after just a couple of epochs and training stops accordingly.\n",
    "\n",
    "## Checkpoints\n",
    "Model checkpointing is an important technique when you train models over a longer period of time. You want to save your trained weights after every couple of epochs for two reasons:\n",
    "1. If the process is killed unexpectedly, you don't lose your progress.\n",
    "2. If your model starts to overfit, you can use the last 'good' checkpoint.\n",
    "\n",
    "In Keras, checkpoints are implemented through a callback function, `tf.keras.callbacks.ModelCheckpoint`. It will save checkpoints in a directory `model_ckpt` after every two epochs. The file name is important here, as it determines whether or not checkpoints will be overwritten. The file name in the example below will include the epoch and validation loss and make sure the checkpoints are not overwritten. We use `save_weights_only=True` here because of the aforementioned bug."
   ]
  },
  {
   "cell_type": "code",
   "execution_count": 20,
   "metadata": {},
   "outputs": [],
   "source": [
    "import os\n",
    "os.makedirs('model_ckpt', exist_ok=True)\n",
    "filepath = os.path.join('model_ckpt', 'weights.{epoch:02d}-{val_loss:.2f}.hdf5')\n",
    "cb_ckpt = tf.keras.callbacks.ModelCheckpoint(filepath, period=2, save_weights_only=True)"
   ]
  },
  {
   "cell_type": "markdown",
   "metadata": {},
   "source": [
    "Alternatively, by setting the parameters `monitor='val_loss'` and `save_best_only=True`, we can keep just the checkpoint with the lowest validation loss.\n",
    "\n",
    "Let's train the same model yet again, this time with checkpoints."
   ]
  },
  {
   "cell_type": "code",
   "execution_count": 21,
   "metadata": {
    "scrolled": true
   },
   "outputs": [
    {
     "name": "stdout",
     "output_type": "stream",
     "text": [
      "Train on 54000 samples, validate on 6000 samples\n",
      "Epoch 1/100\n",
      "54000/54000 [==============================] - 8s 148us/sample - loss: 0.2331 - acc: 0.9304 - val_loss: 0.1064 - val_acc: 0.9675\n",
      "Epoch 2/100\n",
      "54000/54000 [==============================] - 8s 149us/sample - loss: 0.1012 - acc: 0.9699 - val_loss: 0.0813 - val_acc: 0.9762\n",
      "Epoch 3/100\n",
      "54000/54000 [==============================] - 8s 148us/sample - loss: 0.0729 - acc: 0.9774 - val_loss: 0.0695 - val_acc: 0.9792\n",
      "Epoch 4/100\n",
      "54000/54000 [==============================] - 9s 158us/sample - loss: 0.0550 - acc: 0.9826 - val_loss: 0.0643 - val_acc: 0.9812\n",
      "Epoch 5/100\n",
      "54000/54000 [==============================] - 9s 158us/sample - loss: 0.0450 - acc: 0.9854 - val_loss: 0.0754 - val_acc: 0.9783\n",
      "Epoch 6/100\n",
      "54000/54000 [==============================] - 8s 156us/sample - loss: 0.0372 - acc: 0.9873 - val_loss: 0.0641 - val_acc: 0.9825\n",
      "Epoch 7/100\n",
      "54000/54000 [==============================] - 8s 152us/sample - loss: 0.0327 - acc: 0.9891 - val_loss: 0.0729 - val_acc: 0.9797\n",
      "Epoch 8/100\n",
      "54000/54000 [==============================] - 8s 155us/sample - loss: 0.0265 - acc: 0.9911 - val_loss: 0.0786 - val_acc: 0.9803\n",
      "Epoch 9/100\n",
      "54000/54000 [==============================] - 8s 153us/sample - loss: 0.0242 - acc: 0.9922 - val_loss: 0.0825 - val_acc: 0.9795\n"
     ]
    },
    {
     "data": {
      "text/plain": [
       "<tensorflow.python.keras.callbacks.History at 0x7efdec678f60>"
      ]
     },
     "execution_count": 21,
     "metadata": {},
     "output_type": "execute_result"
    }
   ],
   "source": [
    "model = tf.keras.models.Sequential([tf.keras.layers.Flatten(input_shape=(28, 28)),\n",
    "                                    tf.keras.layers.Dense(512, activation='relu'),\n",
    "                                    tf.keras.layers.Dropout(rate=0.2),\n",
    "                                    tf.keras.layers.Dense(10, activation='softmax')])\n",
    "model.compile(optimizer='adam', loss='sparse_categorical_crossentropy', metrics=['accuracy'])\n",
    "model.fit(x_train, y_train, batch_size=32, epochs=100, callbacks=[cb_early_stop, cb_ckpt], validation_split=0.1)"
   ]
  },
  {
   "cell_type": "markdown",
   "metadata": {},
   "source": [
    "## TensorBoard\n",
    "TensorFlow ships with a great tool to monitor the training process and inspect the model. TensorBoard allows you to plot losses, metrics and other parameters like the learning rate in real time during the training and has many other cool features. In order to use it with our model, we have to export some data in log files while we train it. In Keras we can easily do this using, you guessed it, a callback, namely `tf.keras.callbacks.TensorBoard`."
   ]
  },
  {
   "cell_type": "code",
   "execution_count": 22,
   "metadata": {},
   "outputs": [],
   "source": [
    "cb_tensorboard = tf.keras.callbacks.TensorBoard(log_dir='logs')"
   ]
  },
  {
   "cell_type": "markdown",
   "metadata": {},
   "source": [
    "Now the log files will be created in a directory called `logs`. After the training has started, you can launch TensorBoard by running the command\n",
    "\n",
    "`$ tensorboard --logdir=logs --host=localhost --port=1234`.\n",
    "\n",
    "Navigate your browser to http://localhost:1234 to access TensorBoard."
   ]
  },
  {
   "cell_type": "code",
   "execution_count": 23,
   "metadata": {},
   "outputs": [
    {
     "name": "stdout",
     "output_type": "stream",
     "text": [
      "Train on 54000 samples, validate on 6000 samples\n",
      "Epoch 1/10\n",
      "54000/54000 [==============================] - 8s 156us/sample - loss: 0.2315 - acc: 0.9313 - val_loss: 0.0911 - val_acc: 0.9745\n",
      "Epoch 2/10\n",
      "54000/54000 [==============================] - 8s 151us/sample - loss: 0.1018 - acc: 0.9691 - val_loss: 0.0731 - val_acc: 0.9787\n",
      "Epoch 3/10\n",
      "54000/54000 [==============================] - 8s 155us/sample - loss: 0.0725 - acc: 0.9780 - val_loss: 0.0740 - val_acc: 0.9783\n",
      "Epoch 4/10\n",
      "54000/54000 [==============================] - 9s 163us/sample - loss: 0.0550 - acc: 0.9827 - val_loss: 0.0769 - val_acc: 0.9800\n",
      "Epoch 5/10\n",
      "54000/54000 [==============================] - 8s 154us/sample - loss: 0.0444 - acc: 0.9857 - val_loss: 0.0683 - val_acc: 0.9810\n",
      "Epoch 6/10\n",
      "54000/54000 [==============================] - 8s 152us/sample - loss: 0.0388 - acc: 0.9873 - val_loss: 0.0761 - val_acc: 0.9790\n",
      "Epoch 7/10\n",
      "54000/54000 [==============================] - 9s 168us/sample - loss: 0.0313 - acc: 0.9898 - val_loss: 0.0681 - val_acc: 0.9818\n",
      "Epoch 8/10\n",
      "54000/54000 [==============================] - 9s 161us/sample - loss: 0.0274 - acc: 0.9904 - val_loss: 0.0627 - val_acc: 0.9842\n",
      "Epoch 9/10\n",
      "54000/54000 [==============================] - 9s 160us/sample - loss: 0.0248 - acc: 0.9919 - val_loss: 0.0721 - val_acc: 0.9827\n",
      "Epoch 10/10\n",
      "54000/54000 [==============================] - 8s 153us/sample - loss: 0.0225 - acc: 0.9927 - val_loss: 0.0671 - val_acc: 0.9830\n"
     ]
    },
    {
     "data": {
      "text/plain": [
       "<tensorflow.python.keras.callbacks.History at 0x7efdec1477b8>"
      ]
     },
     "execution_count": 23,
     "metadata": {},
     "output_type": "execute_result"
    }
   ],
   "source": [
    "model = tf.keras.models.Sequential([tf.keras.layers.Flatten(input_shape=(28, 28)),\n",
    "                                    tf.keras.layers.Dense(512, activation='relu'),\n",
    "                                    tf.keras.layers.Dropout(rate=0.2),\n",
    "                                    tf.keras.layers.Dense(10, activation='softmax')])\n",
    "model.compile(optimizer='adam', loss='sparse_categorical_crossentropy', metrics=['accuracy'])\n",
    "model.fit(x_train, y_train, batch_size=32, epochs=10, callbacks=[cb_tensorboard], validation_split=0.1)"
   ]
  },
  {
   "cell_type": "markdown",
   "metadata": {},
   "source": [
    "## Custom Models\n",
    "Should you ever need to build a more complex or non-standard model, the Keras API might not provide all the necessary layers for you. In this case it is necessary to get your hands dirty and create cutom models using a lower-level API. TensorFlow supports two evaluation strategies:\n",
    "\n",
    "1. ___Lazy evalution___ has been the default so far. Before doing any computations, all operations have to be defined in a _computation graph_. Afterwards the values of the graph's nodes can be calculated using some input data.\n",
    "\n",
    "2. ___Eager execution___ was introduced recently. It is very similar to regular imperative programming, i.e. computations are executed immediately instead of after finalizing the computation graph.\n",
    "\n",
    "Both strategies have their own advantages and disadvantages. In this tutorial we will only cover eager execution, as it is set to become the default in TensorFlow 2.\n",
    "\n",
    "### Basics\n",
    "The first thing we have to do is enable eager execution, which we did directly after importing TensorFlow. We can check whether eager execution is enabled using `tf.executing_eagerly()`:"
   ]
  },
  {
   "cell_type": "code",
   "execution_count": 24,
   "metadata": {},
   "outputs": [
    {
     "name": "stdout",
     "output_type": "stream",
     "text": [
      "True\n"
     ]
    }
   ],
   "source": [
    "print(tf.executing_eagerly())"
   ]
  },
  {
   "cell_type": "markdown",
   "metadata": {},
   "source": [
    "Let's start by trying out some basic math operations. For example, we can define a constant $2 \\times 2$ matrix using `tf.constant`:"
   ]
  },
  {
   "cell_type": "code",
   "execution_count": 25,
   "metadata": {},
   "outputs": [],
   "source": [
    "a = tf.constant([[1, 2],\n",
    "                 [3, 4]])"
   ]
  },
  {
   "cell_type": "markdown",
   "metadata": {},
   "source": [
    "The result is a `tf.Tensor` object.\n",
    "\n",
    "We can use regular Python operations on the matrices, for example `*` for element-wise multiplication or `@` for matrix multiplication."
   ]
  },
  {
   "cell_type": "code",
   "execution_count": 26,
   "metadata": {},
   "outputs": [
    {
     "name": "stdout",
     "output_type": "stream",
     "text": [
      "a + a =\n",
      "[[2 4]\n",
      " [6 8]]\n",
      "\n",
      "a * a =\n",
      "[[ 1  4]\n",
      " [ 9 16]]\n",
      "\n",
      "a @ a =\n",
      "[[ 7 10]\n",
      " [15 22]]\n"
     ]
    }
   ],
   "source": [
    "print('a + a =\\n{}\\n'.format(a + a))\n",
    "print('a * a =\\n{}\\n'.format(a * a))\n",
    "print('a @ a =\\n{}'.format(a @ a))"
   ]
  },
  {
   "cell_type": "markdown",
   "metadata": {},
   "source": [
    "It also supports broadcasting:"
   ]
  },
  {
   "cell_type": "code",
   "execution_count": 27,
   "metadata": {
    "scrolled": true
   },
   "outputs": [
    {
     "name": "stdout",
     "output_type": "stream",
     "text": [
      "a + 1 =\n",
      "[[2 3]\n",
      " [4 5]]\n"
     ]
    }
   ],
   "source": [
    "print('a + 1 =\\n{}'.format(a + 1))"
   ]
  },
  {
   "cell_type": "markdown",
   "metadata": {},
   "source": [
    "Note that the above operations do not mutate the Tensors, but create new ones each time.\n",
    "\n",
    "Trainable variables can be represented using `tf.Variable`. These variables can be assigned new values."
   ]
  },
  {
   "cell_type": "code",
   "execution_count": 28,
   "metadata": {
    "scrolled": true
   },
   "outputs": [
    {
     "name": "stdout",
     "output_type": "stream",
     "text": [
      "<tf.Variable 'Variable:0' shape=(2, 2) dtype=int32, numpy=\n",
      "array([[1, 2],\n",
      "       [3, 4]], dtype=int32)>\n",
      "<tf.Variable 'Variable:0' shape=(2, 2) dtype=int32, numpy=\n",
      "array([[2, 4],\n",
      "       [6, 8]], dtype=int32)>\n"
     ]
    }
   ],
   "source": [
    "v = tf.Variable(a)\n",
    "print(v)\n",
    "\n",
    "v.assign(v + a)\n",
    "print(v)"
   ]
  },
  {
   "cell_type": "markdown",
   "metadata": {},
   "source": [
    "### Example: Linear Model\n",
    "We will now train a simple linear model using eager execution. Our model is a simple line with two parameters, the slope $m$ and the bias $b$. It produces an approximative function $f^*(x) = mx + b$.\n",
    "\n",
    "Our model class contains the two parameter attributes as variables, which are randomly initialized. If we call the model now we get random outputs."
   ]
  },
  {
   "cell_type": "code",
   "execution_count": 29,
   "metadata": {},
   "outputs": [
    {
     "name": "stdout",
     "output_type": "stream",
     "text": [
      "tf.Tensor([1.3388846], shape=(1,), dtype=float32)\n"
     ]
    }
   ],
   "source": [
    "class Model(object):\n",
    "    def __init__(self):\n",
    "        self.m = tf.Variable(tf.random_uniform(shape=(1,)))\n",
    "        self.b = tf.Variable(tf.random_uniform(shape=(1,)))\n",
    "    def __call__(self, x):\n",
    "        return self.m * x + self.b\n",
    "\n",
    "model = Model()\n",
    "print(model(1))"
   ]
  },
  {
   "cell_type": "markdown",
   "metadata": {},
   "source": [
    "The function we want our model to approximate is $f(x) = 3x + 2$. We first generate some noisy data."
   ]
  },
  {
   "cell_type": "code",
   "execution_count": 30,
   "metadata": {},
   "outputs": [
    {
     "data": {
      "text/plain": [
       "<Figure size 640x480 with 1 Axes>"
      ]
     },
     "metadata": {},
     "output_type": "display_data"
    }
   ],
   "source": [
    "from matplotlib import pyplot\n",
    "\n",
    "def generate_data(f, spread, x_start, x_end, delta=1):\n",
    "    \"\"\"Generate a number of data points from f with some spread.\"\"\"\n",
    "    x = np.asarray(np.arange(x_start, x_end, delta))\n",
    "    y = f(x) + (np.random.rand(*x.shape) - 0.5) * spread\n",
    "    return x, y\n",
    "\n",
    "f = lambda x: 3 * x + 2\n",
    "x, y = generate_data(f, spread=5, x_start=0, x_end=10, delta=0.05)\n",
    "# plot the points\n",
    "pyplot.plot(x, y, marker='.', linewidth=0, label='data')\n",
    "# plot f\n",
    "pyplot.plot(x, f(x), linewidth=3, label='f(x)')\n",
    "pyplot.legend()\n",
    "pyplot.show()"
   ]
  },
  {
   "cell_type": "markdown",
   "metadata": {},
   "source": [
    "Next, we have to define a loss function to minimize. In this case we choose the $L_2$ loss."
   ]
  },
  {
   "cell_type": "code",
   "execution_count": 31,
   "metadata": {},
   "outputs": [],
   "source": [
    "def loss(predicted_y, desired_y):\n",
    "    return tf.reduce_mean(tf.square(predicted_y - desired_y))"
   ]
  },
  {
   "cell_type": "markdown",
   "metadata": {},
   "source": [
    "To train the model, we implement the gradient descent algorithm. We use a `tf.GradientTape` object to record all operations that are applied to our variables. Afterwards we can use it to compute the gradients and update the variables. We train the model for $1000$ iterations."
   ]
  },
  {
   "cell_type": "code",
   "execution_count": 32,
   "metadata": {},
   "outputs": [],
   "source": [
    "def train(model, inputs, outputs, learning_rate):\n",
    "    with tf.GradientTape() as t:\n",
    "        current_loss = loss(model(inputs), outputs)\n",
    "    dm, db = t.gradient(current_loss, [model.m, model.b])\n",
    "    model.m.assign_sub(learning_rate * dm)\n",
    "    model.b.assign_sub(learning_rate * db)\n",
    "\n",
    "for _ in range(1000):\n",
    "    train(model, x, y, 0.01)"
   ]
  },
  {
   "cell_type": "markdown",
   "metadata": {},
   "source": [
    "To see the results, we plot our approximated function $f^*$ as well as the original function $f$."
   ]
  },
  {
   "cell_type": "code",
   "execution_count": 33,
   "metadata": {},
   "outputs": [
    {
     "data": {
      "image/png": "[encoded data removed]",
      "text/plain": [
       "<Figure size 432x288 with 1 Axes>"
      ]
     },
     "metadata": {
      "needs_background": "light"
     },
     "output_type": "display_data"
    }
   ],
   "source": [
    "# plot the points\n",
    "pyplot.plot(x, y, marker='.', linewidth=0, label='data')\n",
    "# plot f\n",
    "pyplot.plot(x, f(x), linewidth=3, label='f(x)')\n",
    "# plot f*\n",
    "pyplot.plot(x, model(x), linewidth=3, label='f*(x)')\n",
    "pyplot.legend()\n",
    "pyplot.show()"
   ]
  },
  {
   "cell_type": "markdown",
   "metadata": {},
   "source": [
    "### Custom Keras Layers\n",
    "It is also possible to subclass `tf.keras.layers.Layer` in order to define your own Keras layers. These can then be used in sequential models. Simply override the methods `__init__`, `build` and `call`. The `build` function is called once when the layer is used for the first time, which provides us with the input shape (depending on the previous layer). In the example below we implement a simpler version of `tf.keras.layers.Dense`, i.e. a dense layer with just a weight matrix but no bias."
   ]
  },
  {
   "cell_type": "code",
   "execution_count": 34,
   "metadata": {},
   "outputs": [],
   "source": [
    "class MySimpleLayer(tf.keras.layers.Layer):\n",
    "    def __init__(self, output_units):\n",
    "        super(MySimpleLayer, self).__init__()\n",
    "        self.output_units = output_units\n",
    "    def build(self, input_shape):\n",
    "        self.kernel = self.add_variable('kernel', [input_shape[-1], self.output_units])\n",
    "    def call(self, input):\n",
    "        return tf.matmul(input, self.kernel)"
   ]
  },
  {
   "cell_type": "markdown",
   "metadata": {},
   "source": [
    "### Custom Keras Models\n",
    "Additionally it is possible to subclass `tf.keras.Model` to build a custom model. This is useful if you need a model which is not strictly sequential. We again override `__init__` and `call`. Here we simply call the individual layers to apply them to some inputs. This allows us for example to apply the same layer twice:"
   ]
  },
  {
   "cell_type": "code",
   "execution_count": 35,
   "metadata": {},
   "outputs": [],
   "source": [
    "class MyModel(tf.keras.Model):\n",
    "    def __init__(self):\n",
    "        super(MyModel, self).__init__()\n",
    "        self.dense1 = tf.keras.layers.Dense(units=10)\n",
    "        self.dense2 = tf.keras.layers.Dense(units=10)\n",
    "    def call(self, input):\n",
    "        result = self.dense1(input)\n",
    "        result = self.dense2(result)\n",
    "        result = self.dense2(result)  # reuse variables from dense2 layer\n",
    "        return result"
   ]
  },
  {
   "cell_type": "markdown",
   "metadata": {},
   "source": [
    "### Custom Training\n",
    "Finally, we will use eager execution mode to train our MNIST model from before. Note that we removed the softmax activation from the last layer as there is a loss function which takes care of this."
   ]
  },
  {
   "cell_type": "code",
   "execution_count": 36,
   "metadata": {},
   "outputs": [],
   "source": [
    "model = tf.keras.models.Sequential([tf.keras.layers.Flatten(input_shape=(28, 28)),\n",
    "                                    tf.keras.layers.Dense(512, activation='relu'),\n",
    "                                    tf.keras.layers.Dropout(rate=0.2),\n",
    "                                    tf.keras.layers.Dense(10)])"
   ]
  },
  {
   "cell_type": "markdown",
   "metadata": {},
   "source": [
    "We first create a function that yields batches of our training data. We cast the images to float and the labels to int, as this is expected by the loss function we will use."
   ]
  },
  {
   "cell_type": "code",
   "execution_count": 37,
   "metadata": {},
   "outputs": [],
   "source": [
    "def get_batches(x, y, batch_size):\n",
    "    assert len(x) == len(y)\n",
    "    for i in range(0, len(x), batch_size):\n",
    "        yield tf.cast(x[i:i + batch_size], tf.float32), tf.cast(y[i:i + batch_size], tf.int32)"
   ]
  },
  {
   "cell_type": "markdown",
   "metadata": {},
   "source": [
    "This time we will use a pre-implemented optimizer (`tf.train.AdamOptimizer`). For every batch we run the forward pass to obtain the logits. We then compute the cross entropy loss. Finally we calculate and apply the gradients using `tf.GradientTape` and the optimizer."
   ]
  },
  {
   "cell_type": "code",
   "execution_count": 38,
   "metadata": {},
   "outputs": [
    {
     "name": "stdout",
     "output_type": "stream",
     "text": [
      "WARNING:tensorflow:From /home/jurek/.local/lib/python3.6/site-packages/tensorflow/python/ops/losses/losses_impl.py:209: to_float (from tensorflow.python.ops.math_ops) is deprecated and will be removed in a future version.\n",
      "Instructions for updating:\n",
      "Use tf.cast instead.\n"
     ]
    }
   ],
   "source": [
    "optimizer = tf.train.AdamOptimizer()\n",
    "for images, labels in get_batches(x_train, y_train, 32):\n",
    "    with tf.GradientTape() as tape:\n",
    "        logits = model(images, training=True)\n",
    "        loss_value = tf.losses.sparse_softmax_cross_entropy(labels, logits)\n",
    "    grads = tape.gradient(loss_value, model.trainable_variables)\n",
    "    optimizer.apply_gradients(zip(grads, model.trainable_variables),\n",
    "                              global_step=tf.train.get_or_create_global_step())"
   ]
  },
  {
   "cell_type": "markdown",
   "metadata": {},
   "source": [
    "## Further Reading\n",
    "In this tutorial we only scratched the surface on what's possible with TensorFlow. Below are some links about advanced topics.\n",
    "* [Estimators](https://www.tensorflow.org/guide/estimators) - another high-level API\n",
    "* [`tf.data`](https://www.tensorflow.org/guide/datasets) - import data\n",
    "* [TensorFlow Serving](https://github.com/tensorflow/serving) - serve trained models\n",
    "* [TensorFlow Hub](https://www.tensorflow.org/hub) - share TensorFlow models"
   ]
  }
 ],
 "metadata": {
  "kernelspec": {
   "display_name": "Python 3",
   "language": "python",
   "name": "python3"
  },
  "language_info": {
   "codemirror_mode": {
    "name": "ipython",
    "version": 3
   },
   "file_extension": ".py",
   "mimetype": "text/x-python",
   "name": "python",
   "nbconvert_exporter": "python",
   "pygments_lexer": "ipython3",
   "version": "3.6.7"
  }
 },
 "nbformat": 4,
 "nbformat_minor": 2
}
